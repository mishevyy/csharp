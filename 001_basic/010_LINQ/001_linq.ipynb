{
 "cells": [
  {
   "cell_type": "markdown",
   "metadata": {},
   "source": [
    "# LINQ"
   ]
  },
  {
   "cell_type": "markdown",
   "metadata": {},
   "source": [
    "## Генерации последовательностей"
   ]
  },
  {
   "cell_type": "code",
   "execution_count": null,
   "metadata": {
    "dotnet_interactive": {
     "language": "csharp"
    },
    "vscode": {
     "languageId": "dotnet-interactive.csharp"
    }
   },
   "outputs": [
    {
     "name": "stdout",
     "output_type": "stream",
     "text": [
      "0 1 2 3 4 5 6 7 8 9"
     ]
    }
   ],
   "source": [
    "// Range - возвращает последовательность от x до y\n",
    "int[] range = Enumerable.Range(0, 10).ToArray();\n",
    "Console.WriteLine(string.Join(\" \", range));"
   ]
  },
  {
   "cell_type": "code",
   "execution_count": null,
   "metadata": {
    "dotnet_interactive": {
     "language": "csharp"
    },
    "vscode": {
     "languageId": "dotnet-interactive.csharp"
    }
   },
   "outputs": [
    {
     "name": "stdout",
     "output_type": "stream",
     "text": [
      "2 2 2 2 2"
     ]
    }
   ],
   "source": [
    "// Repeat - повторяет x y - раз\n",
    "int[] repeat = Enumerable.Repeat(2, 5).ToArray();\n",
    "Console.WriteLine(string.Join(\" \", repeat));"
   ]
  },
  {
   "cell_type": "code",
   "execution_count": null,
   "metadata": {
    "dotnet_interactive": {
     "language": "csharp"
    },
    "vscode": {
     "languageId": "dotnet-interactive.csharp"
    }
   },
   "outputs": [],
   "source": [
    "// Empty - возвращает пустую последовательность\n",
    "int[] empty = Enumerable.Empty<int>().ToArray();"
   ]
  },
  {
   "cell_type": "markdown",
   "metadata": {},
   "source": [
    "## Агрегация последовательностей"
   ]
  },
  {
   "cell_type": "code",
   "execution_count": null,
   "metadata": {
    "dotnet_interactive": {
     "language": "csharp"
    },
    "vscode": {
     "languageId": "dotnet-interactive.csharp"
    }
   },
   "outputs": [],
   "source": [
    "List<int> list = new List<int>\n",
    "{\n",
    "    1, 7, 6, 9, 2, 5, 4, 8, 3\n",
    "};"
   ]
  },
  {
   "cell_type": "code",
   "execution_count": null,
   "metadata": {
    "vscode": {
     "languageId": "dotnet-interactive.csharp"
    }
   },
   "outputs": [
    {
     "name": "stdout",
     "output_type": "stream",
     "text": [
      "9\r\n",
      "81\r\n"
     ]
    }
   ],
   "source": [
    "// Max - возвращает максимальный элемент последовательности\n",
    "int max1 = list.Max();\n",
    "Console.WriteLine(max1);\n",
    "\n",
    "// Max - возвращает максимальный элемент последовательности, и применяет к ней функцию\n",
    "int max2 = list.Max(x => x * x);\n",
    "Console.WriteLine(max2);"
   ]
  },
  {
   "cell_type": "code",
   "execution_count": null,
   "metadata": {
    "dotnet_interactive": {
     "language": "csharp"
    },
    "vscode": {
     "languageId": "dotnet-interactive.csharp"
    }
   },
   "outputs": [
    {
     "name": "stdout",
     "output_type": "stream",
     "text": [
      "1\r\n",
      "2\r\n"
     ]
    }
   ],
   "source": [
    "// Max - возвращает минимальный элемент последовательности\n",
    "int min1 = list.Min();\n",
    "Console.WriteLine(min1);\n",
    "\n",
    "// Max - возвращает минимальный элемент последовательности, и применяет к ней функцию\n",
    "int min2 = list.Min(x => x * 2);\n",
    "Console.WriteLine(min2);"
   ]
  },
  {
   "cell_type": "code",
   "execution_count": null,
   "metadata": {
    "dotnet_interactive": {
     "language": "csharp"
    },
    "vscode": {
     "languageId": "dotnet-interactive.csharp"
    }
   },
   "outputs": [
    {
     "name": "stdout",
     "output_type": "stream",
     "text": [
      "5\r\n",
      "25\r\n"
     ]
    }
   ],
   "source": [
    "// Average - возвращает среднее значение последовательности\n",
    "double avg1 = list.Average();\n",
    "Console.WriteLine(avg1);\n",
    "\n",
    "// Average - возвращает среднее значение последовательности, и применяет к нему функцию\n",
    "double avg2 = list.Average(x => x * 5);\n",
    "Console.WriteLine(avg2);"
   ]
  },
  {
   "cell_type": "code",
   "execution_count": null,
   "metadata": {
    "dotnet_interactive": {
     "language": "csharp"
    },
    "vscode": {
     "languageId": "dotnet-interactive.csharp"
    }
   },
   "outputs": [
    {
     "name": "stdout",
     "output_type": "stream",
     "text": [
      "45\r\n",
      "90\r\n"
     ]
    }
   ],
   "source": [
    "// Sum - возвращает сумму элементов последовательности\n",
    "int sum1 = list.Sum();\n",
    "Console.WriteLine(sum1);\n",
    "\n",
    "// Sum - возвращает сумму элементов последовательности, и применяет к ней функцию\n",
    "int sum2 = list.Sum(x => x + 5);\n",
    "Console.WriteLine(sum2);"
   ]
  },
  {
   "cell_type": "code",
   "execution_count": null,
   "metadata": {
    "dotnet_interactive": {
     "language": "csharp"
    },
    "vscode": {
     "languageId": "dotnet-interactive.csharp"
    }
   },
   "outputs": [
    {
     "name": "stdout",
     "output_type": "stream",
     "text": [
      "9\r\n",
      "7\r\n",
      "9\r\n",
      "9\r\n"
     ]
    }
   ],
   "source": [
    "// Count - возвращает количество элементов последовательности\n",
    "int count1 = list.Count();\n",
    "Console.WriteLine(count1);\n",
    "\n",
    "// Count - возвращает количество элементов последовательности, применяя функцию фильтрации\n",
    "int count2 = list.Count(x => x > 2);\n",
    "Console.WriteLine(count2);\n",
    "\n",
    "// LongCount - возвращает общее количество элементов последовательности, для многомерной последовательности\n",
    "long longCount = list.LongCount();\n",
    "Console.WriteLine(longCount);\n",
    "\n",
    "// TryGetNonEnumeratedCount - пытается определить количество элементов без принудительного перечисления\n",
    "// Метод выполняет ряд тестов типов, идентифицируя общие подтипы, количество которых можно определить без перечисления\n",
    "bool tryCount = list.TryGetNonEnumeratedCount(out int tCount);\n",
    "Console.WriteLine(tCount);"
   ]
  },
  {
   "cell_type": "code",
   "execution_count": null,
   "metadata": {
    "dotnet_interactive": {
     "language": "csharp"
    },
    "vscode": {
     "languageId": "dotnet-interactive.csharp"
    }
   },
   "outputs": [
    {
     "name": "stdout",
     "output_type": "stream",
     "text": [
      "9\r\n",
      "3606\r\n",
      "olleh\r\n"
     ]
    }
   ],
   "source": [
    "// Aggregate - применяет агрегатную функцию к последовательности значений\n",
    "// Параметры: начальное значение агрегациия(так же задает тип), функция обработки последовательности\n",
    "int agg1 = list.Aggregate(0, (prev, next) => next > prev ? next : prev, x => x);\n",
    "Console.WriteLine(agg1);\n",
    "\n",
    "int agg2 = list.Aggregate((prev, next) => (prev + next) * 2);\n",
    "Console.WriteLine(agg2);\n",
    "\n",
    "string newStr = \"hello\".Aggregate(string.Empty, (prev, next) => next + prev);\n",
    "Console.WriteLine(newStr);"
   ]
  },
  {
   "cell_type": "markdown",
   "metadata": {},
   "source": [
    "## Сортировка"
   ]
  },
  {
   "cell_type": "code",
   "execution_count": null,
   "metadata": {
    "dotnet_interactive": {
     "language": "csharp"
    },
    "vscode": {
     "languageId": "dotnet-interactive.csharp"
    }
   },
   "outputs": [
    {
     "name": "stdout",
     "output_type": "stream",
     "text": [
      "1 2 3 4 5 6 7 8 9\r\n",
      "9 8 7 6 5 4 3 2 1\r\n"
     ]
    }
   ],
   "source": [
    "// OrderBy - сортирует последовательность, или сортирует по указанному селектору, в порядке возростания\n",
    "var orderASC = list.OrderBy(x => x);\n",
    "Console.WriteLine(string.Join(\" \", orderASC));\n",
    "\n",
    "// OrderByDescending - сортирует последовательность, или сортирует по указанному селектору, в порядке убывания\n",
    "var orderDSC = list.OrderByDescending(x => x);\n",
    "Console.WriteLine(string.Join(\" \", orderDSC));"
   ]
  },
  {
   "cell_type": "markdown",
   "metadata": {},
   "source": [
    "## Операции над множествами"
   ]
  },
  {
   "cell_type": "code",
   "execution_count": null,
   "metadata": {
    "dotnet_interactive": {
     "language": "csharp"
    },
    "vscode": {
     "languageId": "dotnet-interactive.csharp"
    }
   },
   "outputs": [],
   "source": [
    "List<int> set1 = new List<int>\n",
    "{\n",
    "    7, 6, 9, 2, 5, 4, 8, 3, 6, 3, 1\n",
    "};\n",
    "\n",
    "List<int> set2 = new List<int>\n",
    "{\n",
    "    0, 15, 9, 2, 11, 4, 8, 10, 18, 7, 4\n",
    "};"
   ]
  },
  {
   "cell_type": "code",
   "execution_count": null,
   "metadata": {
    "dotnet_interactive": {
     "language": "csharp"
    },
    "vscode": {
     "languageId": "dotnet-interactive.csharp"
    }
   },
   "outputs": [
    {
     "name": "stdout",
     "output_type": "stream",
     "text": [
      "7 6 9 2 5 4 8 3 1\r\n"
     ]
    }
   ],
   "source": [
    "// Distinc - возвращает уникальные элементы последовательностей\n",
    "// для определения сложных объектов, необходимо, что бы он реализовывал интерфейс IEqualityComparer<T>\n",
    "var distinct = set1.Distinct();\n",
    "Console.WriteLine(string.Join(\" \", distinct));"
   ]
  },
  {
   "cell_type": "code",
   "execution_count": null,
   "metadata": {
    "dotnet_interactive": {
     "language": "csharp"
    },
    "vscode": {
     "languageId": "dotnet-interactive.csharp"
    }
   },
   "outputs": [
    {
     "name": "stdout",
     "output_type": "stream",
     "text": [
      "7 6 9 2 5 4 8 3 6 3 1\r\n",
      "0 15 9 2 11 4 8 10 18 7 4\r\n",
      "6 5 3 1\r\n"
     ]
    }
   ],
   "source": [
    "// Except - возвращает разность между двумя последовательностями\n",
    "// для определения сложных объектов, необходимо, что бы он реализовывал интерфейс IEqualityComparer<T>.\n",
    "var except = set1.Except(set2);\n",
    "Console.WriteLine(string.Join(\" \", set1));\n",
    "Console.WriteLine(string.Join(\" \", set2));\n",
    "Console.WriteLine(string.Join(\" \", except));"
   ]
  },
  {
   "cell_type": "code",
   "execution_count": null,
   "metadata": {
    "dotnet_interactive": {
     "language": "csharp"
    },
    "vscode": {
     "languageId": "dotnet-interactive.csharp"
    }
   },
   "outputs": [
    {
     "name": "stdout",
     "output_type": "stream",
     "text": [
      "7 6 9 2 5 4 8 3 6 3 1\r\n",
      "0 15 9 2 11 4 8 10 18 7 4\r\n",
      "7 9 2 4 8\r\n"
     ]
    }
   ],
   "source": [
    "// Intersect - Находит пересечение множеств, представленных двумя последовательностями\n",
    "// для определения сложных объектов, необходимо, что бы он реализовывал интерфейс IEqualityComparer<T>.\n",
    "var intersect = set1.Intersect(set2);\n",
    "Console.WriteLine(string.Join(\" \", set1));\n",
    "Console.WriteLine(string.Join(\" \", set2));\n",
    "Console.WriteLine(string.Join(\" \", intersect));"
   ]
  },
  {
   "cell_type": "code",
   "execution_count": null,
   "metadata": {
    "dotnet_interactive": {
     "language": "csharp"
    },
    "vscode": {
     "languageId": "dotnet-interactive.csharp"
    }
   },
   "outputs": [
    {
     "name": "stdout",
     "output_type": "stream",
     "text": [
      "7 6 9 2 5 4 8 3 6 3 1\r\n",
      "0 15 9 2 11 4 8 10 18 7 4\r\n",
      "7 6 9 2 5 4 8 3 1 0 15 11 10 18\r\n"
     ]
    }
   ],
   "source": [
    "// Union - объединяет коллекции (вернет уникальные элементы)\n",
    "var union = set1.Union(set2);\n",
    "Console.WriteLine(string.Join(\" \", set1));\n",
    "Console.WriteLine(string.Join(\" \", set2));\n",
    "Console.WriteLine(string.Join(\" \", union));"
   ]
  },
  {
   "cell_type": "code",
   "execution_count": null,
   "metadata": {
    "dotnet_interactive": {
     "language": "csharp"
    },
    "vscode": {
     "languageId": "dotnet-interactive.csharp"
    }
   },
   "outputs": [
    {
     "name": "stdout",
     "output_type": "stream",
     "text": [
      "1 one 2 two 3 three\r\n"
     ]
    }
   ],
   "source": [
    "// Zip - объединяет элементы между собой двух последовательностей\n",
    "int[] numbers = { 1, 2, 3, 4 };\n",
    "string[] words = { \"one\", \"two\", \"three\" };\n",
    "var numbersAndWords = numbers.Zip(words, (first, second) => first + \" \" + second);\n",
    "Console.WriteLine(string.Join(\" \", numbersAndWords));"
   ]
  },
  {
   "cell_type": "code",
   "execution_count": null,
   "metadata": {
    "dotnet_interactive": {
     "language": "csharp"
    },
    "vscode": {
     "languageId": "dotnet-interactive.csharp"
    }
   },
   "outputs": [
    {
     "name": "stdout",
     "output_type": "stream",
     "text": [
      "7 6 9 2 5 4 8 3 6 3 1 0 15 9 2 11 4 8 10 18 7 4\r\n"
     ]
    }
   ],
   "source": [
    "// Concat - объединяет две последовательности\n",
    "var concat = set1.Concat(set2);\n",
    "Console.WriteLine(string.Join(\" \", concat));"
   ]
  },
  {
   "cell_type": "code",
   "execution_count": null,
   "metadata": {
    "dotnet_interactive": {
     "language": "csharp"
    },
    "vscode": {
     "languageId": "dotnet-interactive.csharp"
    }
   },
   "outputs": [
    {
     "name": "stdout",
     "output_type": "stream",
     "text": [
      "1 3 6 3 8 4 5 2 9 6 7\r\n",
      "olleh\r\n"
     ]
    }
   ],
   "source": [
    "// Reverse - возвращает последовательность в обратном порядке\n",
    "var reverseSet = set1.AsEnumerable().Reverse();\n",
    "Console.WriteLine(string.Join(\" \", reverseSet));\n",
    "\n",
    "var chArr = \"hello\".Reverse();\n",
    "Console.WriteLine(string.Join(\"\", chArr));"
   ]
  },
  {
   "cell_type": "markdown",
   "metadata": {},
   "source": [
    "## Приведение к другим типам коллекций"
   ]
  },
  {
   "cell_type": "code",
   "execution_count": null,
   "metadata": {
    "dotnet_interactive": {
     "language": "csharp"
    },
    "vscode": {
     "languageId": "dotnet-interactive.csharp"
    }
   },
   "outputs": [],
   "source": [
    "// Приведение к кдругим типам коллекции\n",
    "// ToDictionary()\n",
    "// ToArray()\n",
    "// ToList()\n",
    "// ToHashSet\n",
    "// ToLookup()\n",
    "\n",
    "\n",
    "// Cast<T> - позволяет вызыватеь методы linq на неуверсальных коллекциях\n",
    "// AsEnumerable - позволяет использовать методы linq на последовательности, если у последовательности есть одноименные методы"
   ]
  },
  {
   "cell_type": "markdown",
   "metadata": {},
   "source": [
    "## Операции над элементами"
   ]
  },
  {
   "cell_type": "code",
   "execution_count": null,
   "metadata": {
    "dotnet_interactive": {
     "language": "csharp"
    },
    "vscode": {
     "languageId": "dotnet-interactive.csharp"
    }
   },
   "outputs": [
    {
     "name": "stdout",
     "output_type": "stream",
     "text": [
      "1 7 6\r\n",
      "9 2 5\r\n",
      "4 8 3\r\n"
     ]
    }
   ],
   "source": [
    "// Chunk - разбивает последовательность на фрагменты не более указанного размера\n",
    "var chunk = list.Chunk(3);\n",
    "foreach(var ch in chunk)\n",
    "    Console.WriteLine(string.Join(\" \", ch));"
   ]
  },
  {
   "cell_type": "code",
   "execution_count": null,
   "metadata": {
    "dotnet_interactive": {
     "language": "csharp"
    },
    "vscode": {
     "languageId": "dotnet-interactive.csharp"
    }
   },
   "outputs": [
    {
     "name": "stdout",
     "output_type": "stream",
     "text": [
      "1 7 6 9 2 5 4 8 3 100\r\n",
      "55 1 7 6 9 2 5 4 8 3\r\n"
     ]
    }
   ],
   "source": [
    "// Append - добавляет значение в конец последовательности\n",
    "var append = list.Append(100);\n",
    "Console.WriteLine(String.Join(\" \", append));\n",
    "\n",
    "// Prepand добавляет в начало последовательности\n",
    "var prepend = list.Prepend(55);\n",
    "Console.WriteLine(String.Join(\" \", prepend));"
   ]
  },
  {
   "cell_type": "code",
   "execution_count": null,
   "metadata": {
    "dotnet_interactive": {
     "language": "csharp"
    },
    "vscode": {
     "languageId": "dotnet-interactive.csharp"
    }
   },
   "outputs": [
    {
     "name": "stdout",
     "output_type": "stream",
     "text": [
      "1 7 6 9 2 5 4 8 3\r\n",
      "0\r\n"
     ]
    }
   ],
   "source": [
    "\n",
    "// DefaultIfEmpty - возвращает значение по умолчанию, если последовательность пуст\n",
    "// Этот метод можно использовать с оператором join для определения левого соединения\n",
    "var def1 = list.DefaultIfEmpty(); // в def1 будет записана коллекция list, так как list не пуста\n",
    "Console.WriteLine(String.Join(\" \", def1));\n",
    "\n",
    "// если коллекция будет пуста, то вернется пустая коллекция, так же можно определить\n",
    "// значение по умолчанию\n",
    "var empty = Enumerable.Empty<int>();\n",
    "var def2 = empty.DefaultIfEmpty(0);\n",
    "Console.WriteLine(String.Join(\" \", def2));"
   ]
  },
  {
   "cell_type": "code",
   "execution_count": null,
   "metadata": {
    "dotnet_interactive": {
     "language": "csharp"
    },
    "vscode": {
     "languageId": "dotnet-interactive.csharp"
    }
   },
   "outputs": [
    {
     "name": "stdout",
     "output_type": "stream",
     "text": [
      "6\r\n",
      "0\r\n"
     ]
    }
   ],
   "source": [
    "\n",
    "// ElementAt - возвращает элемент по индексу\n",
    "var index = list.ElementAt(2);\n",
    "Console.WriteLine(index);\n",
    "\n",
    "// ElementAtOrDefault - возвращает элемент по индексу, или значение по умолчанию,\n",
    "// если индекс за пределами значений\n",
    "var index2 = list.ElementAtOrDefault(20);\n",
    "Console.WriteLine(index2);"
   ]
  },
  {
   "cell_type": "code",
   "execution_count": null,
   "metadata": {
    "dotnet_interactive": {
     "language": "csharp"
    },
    "vscode": {
     "languageId": "dotnet-interactive.csharp"
    }
   },
   "outputs": [],
   "source": [
    "\n",
    "// First - возвращает первый элемент последовательности\n",
    "// выдаст исключение если последовательность пуста\n",
    "var first1 = list.First();\n",
    "var first2 = list.First(x => x > 2);\n",
    "\n",
    "// FirstOrDefault - возвращает первый элемент последовательности\n",
    "// или значение по умолчанию если значение не найдено\n",
    "var fod1 = list.FirstOrDefault();\n",
    "var fod2 = list.FirstOrDefault(x => x > 2);\n",
    "var fod3 = list.FirstOrDefault(x => x > 2, 0); // можно установить значение по умолчанию"
   ]
  },
  {
   "cell_type": "code",
   "execution_count": null,
   "metadata": {
    "dotnet_interactive": {
     "language": "csharp"
    },
    "vscode": {
     "languageId": "dotnet-interactive.csharp"
    }
   },
   "outputs": [],
   "source": [
    "// Last - возвращает последний элемент последовательности\n",
    "// выдаст исключение если последовательность пуста\n",
    "var last1 = list.Last();\n",
    "var last2 = list.Last(x => x > 2);\n",
    "\n",
    "// LastOrDefault - последний первый элемент последовательности\n",
    "// или значение по умолчанию если значение не найдено\n",
    "var lod1 = list.LastOrDefault();\n",
    "var lod2 = list.LastOrDefault(x => x > 2);\n",
    "var lod3 = list.LastOrDefault(x => x > 2, 0); // можно установить значение по умолчанию"
   ]
  },
  {
   "cell_type": "code",
   "execution_count": null,
   "metadata": {
    "dotnet_interactive": {
     "language": "csharp"
    },
    "vscode": {
     "languageId": "dotnet-interactive.csharp"
    }
   },
   "outputs": [],
   "source": [
    "\n",
    "// Single - Возвращает единственный экземпляр, и генерирует исключение если количество элементов последовательности > 1\n",
    "var single = list.Single();\n",
    "\n",
    "// SingleOrDefault - Возвращает единственный экземпляр или экземпляр по умолчанию, и генерирует исключение если количество элементов последовательности > 1\n",
    "var sod = list.SingleOrDefault();"
   ]
  },
  {
   "cell_type": "code",
   "execution_count": null,
   "metadata": {
    "dotnet_interactive": {
     "language": "csharp"
    },
    "vscode": {
     "languageId": "dotnet-interactive.csharp"
    }
   },
   "outputs": [
    {
     "name": "stdout",
     "output_type": "stream",
     "text": [
      "1 7 6 9 2 5 4 8 3\r\n",
      "1 7 6 9 2 5 4 8 3\r\n"
     ]
    }
   ],
   "source": [
    "// All - проверяет все ли элементы последовательности соответсвтуют условию\n",
    "if (list.All(x => x > 0))\n",
    "    Console.WriteLine(string.Join(\" \", list));\n",
    "\n",
    "if (list.All(x => x.GetType() == typeof(int)))\n",
    "    Console.WriteLine(string.Join(\" \", list));"
   ]
  },
  {
   "cell_type": "code",
   "execution_count": null,
   "metadata": {
    "dotnet_interactive": {
     "language": "csharp"
    },
    "vscode": {
     "languageId": "dotnet-interactive.csharp"
    }
   },
   "outputs": [],
   "source": [
    "// Any - проверяет содержит ли последовательность какие либо элементы\n",
    "if(list.Any())\n",
    "    Console.WriteLine(string.Join(\" \", list));\n",
    "\n",
    "// или какие либо элементы соответствующие условию\n",
    "if (list.Any(x => x % 2 == 0)) // Вернет true если хотя бы один элемент сответсвую условию\n",
    "    Console.WriteLine(string.Join(\" \", list));"
   ]
  },
  {
   "cell_type": "code",
   "execution_count": null,
   "metadata": {
    "dotnet_interactive": {
     "language": "csharp"
    },
    "vscode": {
     "languageId": "dotnet-interactive.csharp"
    }
   },
   "outputs": [],
   "source": [
    "// Contains - определяет, содержит ли последовательность указанный элемент\n",
    "// для определения сложных объектов, необходимо, что бы он реализовывал интерфейс IEqualityComparer<T>.\n",
    "bool contains = list.Contains(5);"
   ]
  },
  {
   "cell_type": "code",
   "execution_count": null,
   "metadata": {
    "dotnet_interactive": {
     "language": "csharp"
    },
    "vscode": {
     "languageId": "dotnet-interactive.csharp"
    }
   },
   "outputs": [],
   "source": [
    "// OfType - фильтрует коллекцию по типу\n",
    "var l14 = list.OfType<int>();"
   ]
  },
  {
   "cell_type": "markdown",
   "metadata": {},
   "source": [
    "## Выборка элементов"
   ]
  },
  {
   "cell_type": "code",
   "execution_count": null,
   "metadata": {
    "dotnet_interactive": {
     "language": "csharp"
    },
    "vscode": {
     "languageId": "dotnet-interactive.csharp"
    }
   },
   "outputs": [],
   "source": [
    "// Skip - пропустить указанное количество элементов\n",
    "var skip = list.Skip(2);\n",
    "Console.WriteLine(string.Join(\" \", skip));\n",
    "\n",
    "// SkipWhile - пропускать пока условие истино\n",
    "var skipWhile = list.SkipWhile(x => x != 5);\n",
    "Console.WriteLine(string.Join(\" \", skipWhile));\n",
    "\n",
    "// SkipLas - возвращает новыую коллекцию, с пропущенными элементами начиная с конца\n",
    "var skipLast = list.SkipLast(2);\n",
    "Console.WriteLine(string.Join(\" \", skipLast));"
   ]
  },
  {
   "cell_type": "code",
   "execution_count": null,
   "metadata": {
    "dotnet_interactive": {
     "language": "csharp"
    },
    "vscode": {
     "languageId": "dotnet-interactive.csharp"
    }
   },
   "outputs": [],
   "source": [
    "// Take() - берет указанное количество элементов\n",
    "var take = list.Take(2);\n",
    "Console.WriteLine(string.Join(\" \", take));\n",
    "\n",
    "// TakeWhile() - берет пока условие истино\n",
    "var takeWhile = list.TakeWhile(x => x != 5);\n",
    "Console.WriteLine(string.Join(\" \", takeWhile));\n",
    "\n",
    "// TakeLast() - возвращает новыую коллекцию, берет элементаы начиная с конца\n",
    "var takeLast = list.TakeLast(2);\n",
    "Console.WriteLine(string.Join(\" \", takeLast));"
   ]
  },
  {
   "cell_type": "code",
   "execution_count": null,
   "metadata": {
    "dotnet_interactive": {
     "language": "csharp"
    },
    "vscode": {
     "languageId": "dotnet-interactive.csharp"
    }
   },
   "outputs": [
    {
     "name": "stdout",
     "output_type": "stream",
     "text": [
      "3 3 3 3 3\r\n",
      "4 4 4 4\r\n",
      "5 5\r\n",
      "2\r\n"
     ]
    }
   ],
   "source": [
    "List<int> lg = new List<int>\n",
    "{\n",
    "    3, 4, 5, 2, 3, 4, 3, 3, 5, 4, 4, 3\n",
    "};\n",
    "\n",
    "// GroupBy - группирует элементы, в соответсвии с заданной функцией селектора\n",
    "var group = lg.GroupBy(x => x);\n",
    "foreach(var g in group)\n",
    "    Console.WriteLine(string.Join(\" \", g));"
   ]
  },
  {
   "cell_type": "code",
   "execution_count": null,
   "metadata": {
    "dotnet_interactive": {
     "language": "csharp"
    },
    "vscode": {
     "languageId": "dotnet-interactive.csharp"
    }
   },
   "outputs": [],
   "source": [
    "// GroupJoin - группирует элементы двух последовательностей, в соответсвии с заданной функцией селектора\n",
    "// Join - устанавливает кореляции между двумя последовательностями\n",
    "// Select/ SelectMany\n",
    "// Where - выполняет фильтрацию последовательности"
   ]
  },
  {
   "cell_type": "code",
   "execution_count": null,
   "metadata": {
    "dotnet_interactive": {
     "language": "csharp"
    },
    "vscode": {
     "languageId": "dotnet-interactive.csharp"
    }
   },
   "outputs": [],
   "source": [
    "// Функции с приставкой By используются для сложных типов\n",
    "// MaxBy - Возвращает максимальны элемент универсальной коллекции и т.d\n",
    "// ThenByDescending - сортирует последовательность, или сортирует по указанному селектору, в порядке убывания\n",
    "// ThenBy() - выполняет дополнительное упорядочивание\n",
    "// DistincBy - возвращает уникальные элементы последовательностей, в соответсвии с функцией селектором\n",
    "// ExceptBy - возвращает разность между двумя последовательностями с использованием селектора\n",
    "// UnionBy - объединят коллекции в соответсвии с условием\n",
    "// IntersectBy - Находит пересечение множеств, представленных двумя последовательностями с использованием селектора"
   ]
  }
 ],
 "metadata": {
  "kernelspec": {
   "display_name": ".NET (C#)",
   "language": "C#",
   "name": ".net-csharp"
  },
  "language_info": {
   "name": "C#"
  }
 },
 "nbformat": 4,
 "nbformat_minor": 2
}
