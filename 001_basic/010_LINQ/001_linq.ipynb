{
 "cells": [
  {
   "cell_type": "markdown",
   "metadata": {},
   "source": [
    "# LINQ"
   ]
  },
  {
   "cell_type": "markdown",
   "metadata": {},
   "source": [
    "## Генерации последовательностей"
   ]
  },
  {
   "cell_type": "code",
   "execution_count": null,
   "metadata": {
    "dotnet_interactive": {
     "language": "csharp"
    },
    "vscode": {
     "languageId": "dotnet-interactive.csharp"
    }
   },
   "outputs": [
    {
     "name": "stdout",
     "output_type": "stream",
     "text": [
      "0 1 2 3 4 5 6 7 8 9"
     ]
    }
   ],
   "source": [
    "int[] range = Enumerable.Range(0, 10).ToArray();\n",
    "Console.WriteLine(string.Join(\" \", range));"
   ]
  },
  {
   "cell_type": "code",
   "execution_count": null,
   "metadata": {
    "dotnet_interactive": {
     "language": "csharp"
    },
    "vscode": {
     "languageId": "dotnet-interactive.csharp"
    }
   },
   "outputs": [
    {
     "name": "stdout",
     "output_type": "stream",
     "text": [
      "2 2 2 2 2"
     ]
    }
   ],
   "source": [
    "int[] repeat = Enumerable.Repeat(2, 5).ToArray();\n",
    "Console.WriteLine(string.Join(\" \", repeat));"
   ]
  },
  {
   "cell_type": "markdown",
   "metadata": {},
   "source": [
    "## Аггрегация последовательностей"
   ]
  },
  {
   "cell_type": "code",
   "execution_count": null,
   "metadata": {
    "dotnet_interactive": {
     "language": "csharp"
    },
    "vscode": {
     "languageId": "dotnet-interactive.csharp"
    }
   },
   "outputs": [],
   "source": [
    "List<int> list = new List<int>\n",
    "{\n",
    "    1, 7, 6, 9, 2, 5, 4, 8, 3\n",
    "};"
   ]
  },
  {
   "cell_type": "code",
   "execution_count": null,
   "metadata": {
    "vscode": {
     "languageId": "dotnet-interactive.csharp"
    }
   },
   "outputs": [
    {
     "name": "stdout",
     "output_type": "stream",
     "text": [
      "9\r\n",
      "81\r\n"
     ]
    }
   ],
   "source": [
    "int max1 = list.Max();\n",
    "Console.WriteLine(max1);\n",
    "\n",
    "int max2 = list.Max(x => x * x);\n",
    "Console.WriteLine(max2);"
   ]
  },
  {
   "cell_type": "code",
   "execution_count": null,
   "metadata": {
    "dotnet_interactive": {
     "language": "csharp"
    },
    "vscode": {
     "languageId": "dotnet-interactive.csharp"
    }
   },
   "outputs": [
    {
     "name": "stdout",
     "output_type": "stream",
     "text": [
      "1\r\n",
      "2\r\n"
     ]
    }
   ],
   "source": [
    "int min1 = list.Min();\n",
    "Console.WriteLine(min1);\n",
    "\n",
    "int min2 = list.Min(x => x * 2);\n",
    "Console.WriteLine(min2);"
   ]
  },
  {
   "cell_type": "code",
   "execution_count": null,
   "metadata": {
    "dotnet_interactive": {
     "language": "csharp"
    },
    "vscode": {
     "languageId": "dotnet-interactive.csharp"
    }
   },
   "outputs": [
    {
     "name": "stdout",
     "output_type": "stream",
     "text": [
      "45\r\n",
      "90\r\n"
     ]
    }
   ],
   "source": [
    "int sum1 = list.Sum();\n",
    "Console.WriteLine(sum1);\n",
    "\n",
    "int sum2 = list.Sum(x => x + 5);\n",
    "Console.WriteLine(sum2);"
   ]
  },
  {
   "cell_type": "code",
   "execution_count": null,
   "metadata": {
    "dotnet_interactive": {
     "language": "csharp"
    },
    "vscode": {
     "languageId": "dotnet-interactive.csharp"
    }
   },
   "outputs": [
    {
     "name": "stdout",
     "output_type": "stream",
     "text": [
      "9\r\n",
      "7\r\n",
      "9\r\n"
     ]
    }
   ],
   "source": [
    "int count1 = list.Count();\n",
    "Console.WriteLine(count1);\n",
    "\n",
    "int count2 = list.Count(x => x > 2);\n",
    "Console.WriteLine(count2);\n",
    "\n",
    "long longCount = list.LongCount();\n",
    "Console.WriteLine(longCount);"
   ]
  }
 ],
 "metadata": {
  "kernelspec": {
   "display_name": ".NET (C#)",
   "language": "C#",
   "name": ".net-csharp"
  },
  "language_info": {
   "name": "C#"
  }
 },
 "nbformat": 4,
 "nbformat_minor": 2
}
