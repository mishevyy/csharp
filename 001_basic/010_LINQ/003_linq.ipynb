{
 "cells": [
  {
   "cell_type": "markdown",
   "metadata": {},
   "source": [
    "# Lookup"
   ]
  },
  {
   "cell_type": "code",
   "execution_count": null,
   "metadata": {
    "dotnet_interactive": {
     "language": "csharp"
    },
    "vscode": {
     "languageId": "dotnet-interactive.csharp"
    }
   },
   "outputs": [],
   "source": [
    "class Package\n",
    "{\n",
    "    public string Company;\n",
    "    public double Weight;\n",
    "    public long TrackingNumber;\n",
    "}\n",
    "\n",
    "public static void LookupExample()\n",
    "{\n",
    "    // Create a list of Packages to put into a Lookup data structure.\n",
    "    List<Package> packages = new List<Package> { new Package { Company = \"Coho Vineyard\", Weight = 25.2, TrackingNumber = 89453312L },\n",
    "                                                 new Package { Company = \"Lucerne Publishing\", Weight = 18.7, TrackingNumber = 89112755L },\n",
    "                                                 new Package { Company = \"Wingtip Toys\", Weight = 6.0, TrackingNumber = 299456122L },\n",
    "                                                 new Package { Company = \"Contoso Pharmaceuticals\", Weight = 9.3, TrackingNumber = 670053128L },\n",
    "                                                 new Package { Company = \"Wide World Importers\", Weight = 33.8, TrackingNumber = 4665518773L } };\n",
    "\n",
    "    // Create a Lookup to organize the packages. Use the first character of Company as the key value.\n",
    "    // Select Company appended to TrackingNumber for each element value in the Lookup.\n",
    "    Lookup<char, string> lookup = (Lookup<char, string>)packages.ToLookup(p => p.Company[0],\n",
    "                                                    p => p.Company + \" \" + p.TrackingNumber);\n",
    "\n",
    "    // Iterate through each IGrouping in the Lookup and output the contents.\n",
    "    foreach (IGrouping<char, string> packageGroup in lookup)\n",
    "    {\n",
    "        // Print the key value of the IGrouping.\n",
    "        Console.WriteLine(packageGroup.Key);\n",
    "        // Iterate through each value in the IGrouping and print its value.\n",
    "        foreach (string str in packageGroup)\n",
    "            Console.WriteLine(\"    {0}\", str);\n",
    "    }\n",
    "\n",
    "    // This code produces the following output:\n",
    "    //\n",
    "    // C\n",
    "    //     Coho Vineyard 89453312\n",
    "    //     Contoso Pharmaceuticals 670053128\n",
    "    // L\n",
    "    //     Lucerne Publishing 89112755\n",
    "    // W\n",
    "    //     Wingtip Toys 299456122\n",
    "    //     Wide World Importers 4665518773\n",
    "\n",
    "    // Get the number of key-collection pairs in the Lookup.\n",
    "    int count = lookup.Count;\n",
    "\n",
    "    // Select a collection of Packages by indexing directly into the Lookup.\n",
    "    IEnumerable<string> cgroup = lookup['C'];\n",
    "\n",
    "    // Output the results.\n",
    "    Console.WriteLine(\"\\nPackages that have a key of 'C':\");\n",
    "    foreach (string str in cgroup)\n",
    "        Console.WriteLine(str);\n",
    "\n",
    "    // This code produces the following output:\n",
    "    //\n",
    "    // Packages that have a key of 'C'\n",
    "    // Coho Vineyard 89453312\n",
    "    // Contoso Pharmaceuticals 670053128\n",
    "\n",
    "    // Determine if there is a key with the value 'G' in the Lookup.\n",
    "    bool hasG = lookup.Contains('G');\n",
    "}"
   ]
  }
 ],
 "metadata": {
  "kernelspec": {
   "display_name": ".NET (C#)",
   "language": "C#",
   "name": ".net-csharp"
  },
  "language_info": {
   "name": "C#"
  }
 },
 "nbformat": 4,
 "nbformat_minor": 2
}
